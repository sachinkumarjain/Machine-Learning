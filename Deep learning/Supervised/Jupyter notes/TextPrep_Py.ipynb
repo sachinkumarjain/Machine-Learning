{
 "cells": [
  {
   "cell_type": "markdown",
   "metadata": {},
   "source": [
    "# Applications of Data Science\n",
    "# Lab 3-Py\n",
    "# Preparing Text Data with Python\n",
    "\n",
    "## Overview\n",
    "\n",
    "This lab introduces you to the basics of text mining and text data preparation. In this lab you will work with a set of 160,000 tweets, which include sentiment labels. \n",
    "\n",
    "Social media sentiment is an important indicator of public opinion.  Determining sentiment can be valuable in a number of applications including brand awareness, product launches, and detecting political trends. \n",
    "\n",
    "Raw text is inherently messy. Machine understanding and analysis is inhibited by the presence of extraneous symbols and words that clutter the text. The exact nature of the required text cleaning depends on the application.  In this case, you will focus on text cleaning to facilitate sentiment classification. The presence of certain words determine the sentiment of the tweet. Words and symbols which are extraneous to this purpose are distractions at best, and a likely source of noise in the analysis. You will follow these steps to prepare the tweet text for analysis: \n",
    "\n",
    "- Symbols and unnecessary white space which do not convey sentiment are removed, leaving only alphabetic characters.\n",
    "- There is no difference in the sentiment conveyed by a word in upper case or lower case, so all case is set to lower. \n",
    "- Stop words are words that occur with high frequency in text, but do not have any particular meaning. Examples include word like \"the\", \"and\" and \"this\". Since these words are relatively common, yet communicate no particular sentiment, they can bias analytics.  Therefore, stop words which do not convey sentiment are therefore removed from the tweet text.\n",
    "- stem is a root word. For example, \"go\" is the root word of conjugated verbs, \"going\", \"goes\", \"gone\". The meaning of these words is the same in terms of analysis. A process known as stemming is applied to transform words to their roots, before analysis. \n",
    "\n",
    "\n",
    "## What you will need\n",
    "To complete this lab, you will need the following:\n",
    "- A web browser and Internet connection\n",
    "- An Azure ML workspace\n",
    "- The lab files for this lab\n",
    "\n",
    "\n",
    "## Load and transform the tweet data\n",
    "\n",
    "As a first step, ensure that you have uploaded the **tweets.csv** and **stopwords.csv** files as new datasets in your Azure Machine Learning workspace. Then use the following code to load the tweets data set and set the column names to convenient values."
   ]
  },
  {
   "cell_type": "code",
   "execution_count": null,
   "metadata": {},
   "outputs": [],
   "source": [
    "%matplotlib inline\n",
    "import pandas as pd\n",
    "from azureml import Workspace\n",
    "ws = Workspace()\n",
    "ds = ws.datasets['tweets.csv']\n",
    "dataset = ds.to_dataframe()\n",
    "dataset.columns = ['sentiment', 'tweets']\n",
    "dataset.head()"
   ]
  },
  {
   "cell_type": "markdown",
   "metadata": {},
   "source": [
    "Examine the head of the data frame shown above, noticing the content of the two columns.\n",
    "- The Sentiment column contains a sentiment score {0,4} for negative of positive sentiment of the tweet.\n",
    "- The Tweets column contains the actual text of the tweet.\n",
    "\n",
    "\n",
    "## Normalize the text\n",
    "\n",
    "You will now normalize the tweet text. The code in the cell below performs the following operations:\n",
    "- Remove numbers.\n",
    "- Remove punctuation.\n",
    "- Convert to lower case."
   ]
  },
  {
   "cell_type": "code",
   "execution_count": null,
   "metadata": {},
   "outputs": [],
   "source": [
    "import string\n",
    "sp = string.punctuation\n",
    "tweets = dataset['tweets'].tolist()\n",
    "tweets = list(map(lambda t: ''.join([\"\" if c.isdigit() else c for c in t]), tweets))\n",
    "tweets = list(map(lambda t: ''.join([\"\" if c in sp else c for c in t]), tweets))\n",
    "tweets = list(map(str.lower, tweets))\n",
    "tweets[:5]"
   ]
  },
  {
   "cell_type": "markdown",
   "metadata": {},
   "source": [
    "Examine the tweet text. All of the characters are lower case and there are no punctuation characters, or numbers. \n",
    "\n",
    "Next, you will compute the counts and cumulative frequencies of the words in the tweets. The **nltk** package contains two tools to help:\n",
    "\n",
    "The ** regexp_tokenize** functuon tokenizes the text. Tokenization is the process of dividing the text into its component tokens. In this case, the tokens are all words, since you are working with normalized text.\n",
    "\n",
    "The ** FreqDist** function computes the frequency distribution of words in a text corpus. A Pandas data frame is then computed from the word frequency array. \n",
    "\n",
    "Execute the code in the cell below to compute the word frequency and examine the head of the data frame.\n"
   ]
  },
  {
   "cell_type": "code",
   "execution_count": null,
   "metadata": {},
   "outputs": [],
   "source": [
    "def to_TF(tweets):\n",
    "    import pandas as pd\n",
    "    import nltk\n",
    "    tweets = list(map(lambda t: nltk.regexp_tokenize(t, r'\\S+'), tweets))\n",
    "    tweets = [w for l in tweets for w in l]\n",
    "\n",
    "    ## Compute the frequency distribution of the words as a dictionary\n",
    "    fdist = nltk.FreqDist(tweets) \n",
    "    ## Convert the dictionary to a dataframe contaning the words and\n",
    "    ## counts indexed by the words, and then take the transpose.\n",
    "    count_frame = pd.DataFrame(fdist, index =[0]).T\n",
    "    count_frame.columns = ['Count']\n",
    "    return(count_frame.sort_values('Count', ascending = False))\n",
    " \n",
    "wf = to_TF(tweets)\n",
    "wf.head(n = 20)"
   ]
  },
  {
   "cell_type": "markdown",
   "metadata": {},
   "source": [
    "Notice that the most frequent words are in the head of this data frame. Of these 20 most frequent words none are likely to convey much information on sentiment.  \n",
    "\n",
    "The code in the cell below, creates a bar plot of word frequency for the most common 60 words. "
   ]
  },
  {
   "cell_type": "code",
   "execution_count": null,
   "metadata": {},
   "outputs": [],
   "source": [
    "def wf_bar(wf):\n",
    "    import matplotlib.pyplot as plt\n",
    "    ## Barplot of the most fequent words.   \n",
    "    fig = plt.figure(figsize=(12, 9))\n",
    "    ax = fig.gca()    \n",
    "    wf['Count'][:60].plot(kind = 'bar', ax = ax)\n",
    "    ax.set_title('Frequency of the most common words')\n",
    "    ax.set_ylabel('Frequency of word')\n",
    "    ax.set_xlabel('Word')\n",
    "    plt.show()\n",
    "    return 'Done'\n",
    "wf_bar(wf)"
   ]
  },
  {
   "cell_type": "markdown",
   "metadata": {},
   "source": [
    "Examine this plot and notice the most frequent words. Many of the most frequent words are stop words, such as \"Âthe\", \"and\", and \"you\", which are not likely to be helpful in determining sentiment. Also, the frequency of the words drops off fairly quickly to less than 500 out of the 160,000 tweets.\n",
    "\n",
    "Another tool for examining the frequency of words in a corpus of documents is the cumulative distribution frequency (CDF) plot. Execute the code in the cell below to compute and display a bar plot of the cumulative frequencies of the words."
   ]
  },
  {
   "cell_type": "code",
   "execution_count": null,
   "metadata": {},
   "outputs": [],
   "source": [
    "def plot_cfd(wf):\n",
    "    import matplotlib.pyplot as plt\n",
    "    ## Compute the relative cumulative frequency of the words in \n",
    "    ## descending order of frequency and add the dataframe.   \n",
    "    word_count = float(wf['Count'].sum(axis = 0))   \n",
    "    wf['Cum'] = wf['Count'].cumsum(axis = 0)\n",
    "    wf['Cum'] = wf['Cum'].divide(word_count)\n",
    "    \n",
    "    ## Barplot the cumulative frequency for the most frequent words.   \n",
    "    fig = plt.figure(figsize=(12, 9))\n",
    "    ax = fig.gca()    \n",
    "    wf['Cum'][:60].plot(kind = 'bar', ax = ax)\n",
    "    ax.set_title('Cumulative fraction of total words vs. words')\n",
    "    ax.set_ylabel('Cumulative fraction')\n",
    "    ax.set_xlabel('Word')\n",
    "    plt.show()\n",
    "    return 'Done'\n",
    "\n",
    "\n",
    "plot_cfd(wf)"
   ]
  },
  {
   "cell_type": "markdown",
   "metadata": {},
   "source": [
    "The conclusions one can draw from the second chart are largely the same as the first. The most frequent words are stop words and the frequency of words drops off rather quickly. Also notice, that the frequency of the words becomes uniform fairly quickly. \n",
    "\n",
    "****\n",
    "\n",
    "You will now examine the head of the resulting word frequency data frame to determine the following:\n",
    "- What is the percentage of all words for these first 20 words?\n",
    "- Of these 20 words, how many are likely to contibute sentiment information?\n",
    "- Are these 20 words different from the words seen for the raw text?\n",
    "\n",
    "To perform this exercise, apply the Pandas **head** method, with **n = 20**, to the wf data frame.\n",
    "\n"
   ]
  },
  {
   "cell_type": "code",
   "execution_count": null,
   "metadata": {},
   "outputs": [],
   "source": [
    "wf.head(n = 20)"
   ]
  },
  {
   "cell_type": "markdown",
   "metadata": {},
   "source": [
    "## Remove stop words\n",
    "\n",
    "In the previous section you removed extraneous characters and whitespace from the tweet text. The results show that the most frequent words do not communicate much sentiment information. These frequent words, which are largely extraneous, are known as stop words and should be removed from the text before further analysis. In this exercise you will use custom Python code to remove stop words from the tweet text.\n",
    "\n",
    "As a first step you will load the list of stop words, and examine the first 100 by executing the code in the cell below. "
   ]
  },
  {
   "cell_type": "code",
   "execution_count": null,
   "metadata": {},
   "outputs": [],
   "source": [
    "sw = ws.datasets['stopwords.csv']\n",
    "stop_words = sw.to_dataframe()\n",
    "stop_words = [w for w in stop_words.words if w in stop_words.words.unique() ]\n",
    "stop_words[:20]"
   ]
  },
  {
   "cell_type": "markdown",
   "metadata": {},
   "source": [
    "Execute the code in the cell below to remove the stop words from each tweet using nested list comprehensions. "
   ]
  },
  {
   "cell_type": "code",
   "execution_count": null,
   "metadata": {},
   "outputs": [],
   "source": [
    "temp = [tweet.split() for tweet in tweets] ## Split tweets into tokens\n",
    "tweets = [' '.join([word for word in tweet if word not in set(stop_words)]) for tweet in temp]"
   ]
  },
  {
   "cell_type": "markdown",
   "metadata": {},
   "source": [
    "Execute the code in the cell below to visualize the word frequency."
   ]
  },
  {
   "cell_type": "code",
   "execution_count": null,
   "metadata": {},
   "outputs": [],
   "source": [
    "wf = to_TF(tweets)\n",
    "wf_bar(wf)"
   ]
  },
  {
   "cell_type": "markdown",
   "metadata": {},
   "source": [
    "The distribution of word frequency is not quite different. Note that many of the most frequent words are now likely to convey some sentiment, such as \"good\", \"like\", and \"love\". Evidently, removing stop words has had the desired effect.\n",
    "\n",
    "Next, execute the code in the cell below to display the CDF of the tweets with the stop words removed. "
   ]
  },
  {
   "cell_type": "code",
   "execution_count": null,
   "metadata": {},
   "outputs": [],
   "source": [
    "plot_cfd(wf)"
   ]
  },
  {
   "cell_type": "markdown",
   "metadata": {},
   "source": [
    "As before, this chart shows a number of frequent words which are likely to convey sentiment. However, note that these 60 most frequent words only make up about 17% or the total.\n",
    "\n",
    "****\n",
    "\n",
    "You will now examine the head of the resulting word frequency data frame to determine the following:\n",
    "\n",
    "- What is the percentage of all words for these first 20 words? \n",
    "- Of these 20 words, how many are likely to contribute sentiment information? \n",
    "- Are these 20 words different from the words seen for the normalized text? \n",
    "\n",
    "To perform this exercise, apply the Pandas **head** method, with **n = 20**, to the wf data frame.\n",
    "****"
   ]
  },
  {
   "cell_type": "code",
   "execution_count": null,
   "metadata": {},
   "outputs": [],
   "source": [
    "wf.head(n = 20)"
   ]
  },
  {
   "cell_type": "markdown",
   "metadata": {},
   "source": [
    "## Stem the Words\n",
    "\n",
    "You have cleaned the tweet text and removed stop words. There is one last data preparation step required, stemming the words. Stemming is a process of reducing words to their stems or roots. For example, conjugated verbs such as \"goes\", \"going\", and \"gone\" are stemmed to the word \"go\".  Both Python and R offer a choice of stemmers. Depending on this choice, the results can be more or less suitable for the application. In this case, you will use the popular Porter stemmer. \n",
    "\n",
    "The Porter stemmer used by the **PorterStemmer** function in the **nltk.stem.porter** library. Execute the code in the cell below to load and apply the Porter stemmer to the tweet text and display the first few tweets with stemmed words."
   ]
  },
  {
   "cell_type": "code",
   "execution_count": null,
   "metadata": {},
   "outputs": [],
   "source": [
    "from nltk.stem.porter import PorterStemmer\n",
    "porter_stemmer = PorterStemmer()\n",
    "temp = [tweet.split() for tweet in tweets] ## Split tweets into tokens\n",
    "temp = map(lambda t: [porter_stemmer.stem(w) for w in t], temp)\n",
    "tweets = [' '.join(tweet) for tweet in temp] ## Join the words of the tweet string\n",
    "tweets[:10]\n"
   ]
  },
  {
   "cell_type": "markdown",
   "metadata": {},
   "source": [
    "Compare the text in the tweets to the text for the normalized text. Notice that there are fewer words in these tweets following the removal of stop words. Also, words like 'happy' have been stemmed to 'happi'.  This text is now ready for analysis!\n",
    "\n",
    "To display the bar plot of the word frequency, execute the code in the cell below."
   ]
  },
  {
   "cell_type": "code",
   "execution_count": null,
   "metadata": {},
   "outputs": [],
   "source": [
    "wf = to_TF(tweets)\n",
    "wf_bar(wf)"
   ]
  },
  {
   "cell_type": "markdown",
   "metadata": {},
   "source": [
    "To display the CDF plot of the word frequency, execute the code in the cell below."
   ]
  },
  {
   "cell_type": "code",
   "execution_count": null,
   "metadata": {},
   "outputs": [],
   "source": [
    "plot_cfd(wf)"
   ]
  },
  {
   "cell_type": "markdown",
   "metadata": {
    "collapsed": true
   },
   "source": [
    "Compare these two charts using the stemmed words to the charts created with just stop word filtering and notice the differences. These differences are quite noticeable. For example, some words like \"good\" and \"like\" have moved higher in the order of most frequent words, while some other words like \"going\" have moved down. "
   ]
  },
  {
   "cell_type": "markdown",
   "metadata": {},
   "source": [
    "****\n",
    "\n",
    "You will now examine the head of the resulting word frequency data frame to determine the following:\n",
    "\n",
    "- Have any of the words in the list been stemmed? \n",
    "- Has the stemming changed the frequency of these words?\n",
    "\n",
    "To perform this exercise, apply the Pandas **head** method, with **n = 20**, to the wf data frame.\n",
    "****"
   ]
  },
  {
   "cell_type": "code",
   "execution_count": null,
   "metadata": {},
   "outputs": [],
   "source": [
    "wf.head(n = 20)"
   ]
  }
 ],
 "metadata": {
  "kernelspec": {
   "display_name": "Python 3",
   "language": "python",
   "name": "python3"
  },
  "language_info": {
   "codemirror_mode": {
    "name": "ipython",
    "version": 3
   },
   "file_extension": ".py",
   "mimetype": "text/x-python",
   "name": "python",
   "nbconvert_exporter": "python",
   "pygments_lexer": "ipython3",
   "version": "3.6.1"
  }
 },
 "nbformat": 4,
 "nbformat_minor": 1
}
