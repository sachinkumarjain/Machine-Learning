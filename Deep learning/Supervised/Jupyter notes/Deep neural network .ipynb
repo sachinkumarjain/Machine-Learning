{
 "cells": [
  {
   "cell_type": "markdown",
   "metadata": {},
   "source": [
    "Deep learning (also known as deep structured learning or hierarchical learning) is part of a broader family of machine learning methods based on learning data representations, as opposed to task-specific algorithms. Learning can be supervised, partially supervised or unsupervised.\n",
    "\n",
    "Deep learning architectures such as deep neural networks, deep belief networks and recurrent neural networks have been applied to fields including computer vision, speech recognition, natural language processing, audio recognition, social network filtering, machine translation and bioinformatics where they produced results comparable to and in some cases superior to human experts        \n",
    "        \n",
    "    \n",
    "\n",
    "![title](img/deep/ANN.png)"
   ]
  },
  {
   "cell_type": "markdown",
   "metadata": {},
   "source": [
    "![title](img/deep/Godfather NN.png)\n",
    "\n",
    "\n",
    "\n",
    "![title](img/deep/storage.png)\n",
    "\n",
    "\n",
    "Two things needed for deep learning are :\n",
    "\n",
    "-> More Data \n",
    "-> Data processing \n",
    "\n",
    "\n",
    "\n",
    "\n",
    "A cost function is a measure of \"how good\" a neural network did with respect to it's given training sample and the expected output. It also may depend on variables such as weights and biases.\n",
    "\n",
    "A cost function is a single value, not a To be used in backpropagation, \n",
    "\n",
    "A cost function must satisfy two properties:\n",
    "\n",
    "1: The cost function CC must be able to be written as an average\n",
    "\n",
    "C=1n∑xCx\n",
    "C=1n∑xCx\n",
    "over cost functions CxCx for individual training examples, xx.\n",
    "\n",
    "This is so it allows us to compute the gradient (with respect to weights and biases) for a single training example, and run Gradient Descent.\n",
    "\n",
    "2: The cost function CC must not be dependent on any activation values of a neural network besides the output values aLaL.vector, because it rates how good the neural network did as a whole.\n",
    "\n",
    "\n",
    "    \n",
    "Type of cost function :\n",
    "\n",
    " https://stats.stackexchange.com/questions/154879/a-list-of-cost-functions-used-in-neural-networks-alongside-applications"
   ]
  },
  {
   "cell_type": "code",
   "execution_count": null,
   "metadata": {
    "collapsed": true
   },
   "outputs": [],
   "source": []
  }
 ],
 "metadata": {
  "kernelspec": {
   "display_name": "Python 3",
   "language": "python",
   "name": "python3"
  },
  "language_info": {
   "codemirror_mode": {
    "name": "ipython",
    "version": 3
   },
   "file_extension": ".py",
   "mimetype": "text/x-python",
   "name": "python",
   "nbconvert_exporter": "python",
   "pygments_lexer": "ipython3",
   "version": "3.6.3"
  }
 },
 "nbformat": 4,
 "nbformat_minor": 2
}
