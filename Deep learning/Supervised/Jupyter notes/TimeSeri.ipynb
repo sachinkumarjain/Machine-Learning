{
 "cells": [
  {
   "cell_type": "markdown",
   "metadata": {},
   "source": [
    "# Applications of Data Science\n",
    "\n",
    "# Lab 1\n",
    "\n",
    "# Exploring Time Series Data\n",
    "\n",
    "## Overview\n",
    "\n",
    "Time series models are used in a wide range of applications, particularly for forecasting. \n",
    "\n",
    "This notebook contains lab material to familarize yourself with key aspects of time series analysis. You will perform analyses on a time series of California dairy data. Specifically, you will explore the structure of the time series and forecast the monthly production of fresh milk in the state of California. \n",
    "\n",
    "This exploration is performed in two steps:\n",
    "\n",
    "- Explore the characteristics of the time series data.\n",
    "- Decompose the time series of monthly milk production into trend, seasonal components, and remainder components. \n",
    "- Apply time series models to the remainder component of the time series.\n",
    "- Forecast the production of monthly milk production for a 12 month period. \n",
    "\n",
    "## What you will need\n",
    "\n",
    "To complete this lab, you will need the following:\n",
    "\n",
    "- A web browser and Internet connection \n",
    "- An Azure Machine Learning workspace\n",
    "- The lab files for this lab\n",
    "\n",
    "**Note** To set up the required environment for the lab, follow the instructions in the [Setup guide](https://aka.ms/edx-dat203.3x-setup). \n"
   ]
  },
  {
   "cell_type": "markdown",
   "metadata": {},
   "source": [
    "## Load and Examine the Data\n",
    "\n",
    "As a first step, ensure that you have uploaded the **cadairydata.csv** file as a new dataset in your Azure Machine Learning workspace, and then execute the code below to load the data set into a dataframe."
   ]
  },
  {
   "cell_type": "code",
   "execution_count": 9,
   "metadata": {},
   "outputs": [],
   "source": [
    "setwd('E:/Projects/Machine learning/Microsoft edx/DAT203.3x/Lab01')\n",
    "to.POSIXct <- function(year, monthNumber){\n",
    "  ## Function to create a POSIXct time series \n",
    "  ## object from a year.month format\n",
    "  \n",
    "  ## Create a character vector from the numeric input\n",
    "  dateStr <- paste(as.character(year), \"-\",\n",
    "                   as.character(monthNumber), \"-\",\n",
    "                   \"01\", sep = \"\")\n",
    "  ## Return the POSIXct time series object\n",
    "  as.POSIXct( strptime(dateStr, \"%Y-%m-%d\"))\n",
    "}\n",
    "\n",
    "order.month <- function(x){\n",
    "  ## Function to make Month column an ordered factor.\n",
    "  x <- substr(x, 1, 3) ## Use just the first three letters\n",
    "  factor(x, \n",
    "         levels = c(\"Jan\", \"Feb\", \"Mar\", \"Apr\", \"May\", \"Jun\",\n",
    "                    \"Jul\", \"Aug\", \"Sep\", \"Oct\", \"Nov\", \"Dec\"),\n",
    "         ordered = TRUE)\n",
    "}\n",
    "\n",
    "read.dairy <- function(path='.', fileName= 'cadairydata.csv'){\n",
    "  filePath <- file.path(path, fileName)\n",
    "  df <- read.csv(filePath, header=TRUE, stringsAsFactors=FALSE)\n",
    "  df$dateTime <- to.POSIXct(df$Year, df$Month.Number)\n",
    "  dropCols <- c(\"X\",\"Year.Month\", \"Month.Number\")\n",
    "  df$Month <- order.month(df$Month)\n",
    "  df[ , !(names(df) %in% dropCols)]\n",
    "}\n",
    "\n",
    "dairy <- read.dairy()"
   ]
  },
  {
   "cell_type": "markdown",
   "metadata": {},
   "source": [
    "The code you just executed performs the following steps:\n",
    "\n",
    "- The data is read from a dataset in your Azure Machine Learning subscription.\n",
    "- A new column, of type POSIXct, is created. POSIXct is a flexible R data-time class. The **strtime** function formats a text string for conversion to the date-time class. \n",
    "- The **Month** column is converted to an ordered R factor class. \n",
    "- Some unnecessary columns are removed from the data frame.\n",
    "\n",
    "Next, execute the code below and examine the head of the data frame."
   ]
  },
  {
   "cell_type": "code",
   "execution_count": 10,
   "metadata": {},
   "outputs": [
    {
     "data": {
      "text/html": [
       "<table>\n",
       "<thead><tr><th scope=col>Year</th><th scope=col>Month</th><th scope=col>Cotagecheese.Prod</th><th scope=col>Icecream.Prod</th><th scope=col>Milk.Prod</th><th scope=col>N.CA.Fat.Price</th><th scope=col>dateTime</th></tr></thead>\n",
       "<tbody>\n",
       "\t<tr><td>1995      </td><td>Jan       </td><td>4.370     </td><td>51.595    </td><td>2.112     </td><td>0.9803    </td><td>1995-01-01</td></tr>\n",
       "\t<tr><td>1995      </td><td>Feb       </td><td>3.695     </td><td>56.086    </td><td>1.932     </td><td>0.8924    </td><td>1995-02-01</td></tr>\n",
       "\t<tr><td>1995      </td><td>Mar       </td><td>4.538     </td><td>68.453    </td><td>2.162     </td><td>0.8924    </td><td>1995-03-01</td></tr>\n",
       "\t<tr><td>1995      </td><td>Apr       </td><td>4.280     </td><td>65.722    </td><td>2.130     </td><td>0.8967    </td><td>1995-04-01</td></tr>\n",
       "\t<tr><td>1995      </td><td>May       </td><td>4.470     </td><td>73.730    </td><td>2.227     </td><td>0.8967    </td><td>1995-05-01</td></tr>\n",
       "\t<tr><td>1995      </td><td>Jun       </td><td>4.238     </td><td>77.994    </td><td>2.124     </td><td>0.9160    </td><td>1995-06-01</td></tr>\n",
       "</tbody>\n",
       "</table>\n"
      ],
      "text/latex": [
       "\\begin{tabular}{r|lllllll}\n",
       " Year & Month & Cotagecheese.Prod & Icecream.Prod & Milk.Prod & N.CA.Fat.Price & dateTime\\\\\n",
       "\\hline\n",
       "\t 1995       & Jan        & 4.370      & 51.595     & 2.112      & 0.9803     & 1995-01-01\\\\\n",
       "\t 1995       & Feb        & 3.695      & 56.086     & 1.932      & 0.8924     & 1995-02-01\\\\\n",
       "\t 1995       & Mar        & 4.538      & 68.453     & 2.162      & 0.8924     & 1995-03-01\\\\\n",
       "\t 1995       & Apr        & 4.280      & 65.722     & 2.130      & 0.8967     & 1995-04-01\\\\\n",
       "\t 1995       & May        & 4.470      & 73.730     & 2.227      & 0.8967     & 1995-05-01\\\\\n",
       "\t 1995       & Jun        & 4.238      & 77.994     & 2.124      & 0.9160     & 1995-06-01\\\\\n",
       "\\end{tabular}\n"
      ],
      "text/markdown": [
       "\n",
       "Year | Month | Cotagecheese.Prod | Icecream.Prod | Milk.Prod | N.CA.Fat.Price | dateTime | \n",
       "|---|---|---|---|---|---|\n",
       "| 1995       | Jan        | 4.370      | 51.595     | 2.112      | 0.9803     | 1995-01-01 | \n",
       "| 1995       | Feb        | 3.695      | 56.086     | 1.932      | 0.8924     | 1995-02-01 | \n",
       "| 1995       | Mar        | 4.538      | 68.453     | 2.162      | 0.8924     | 1995-03-01 | \n",
       "| 1995       | Apr        | 4.280      | 65.722     | 2.130      | 0.8967     | 1995-04-01 | \n",
       "| 1995       | May        | 4.470      | 73.730     | 2.227      | 0.8967     | 1995-05-01 | \n",
       "| 1995       | Jun        | 4.238      | 77.994     | 2.124      | 0.9160     | 1995-06-01 | \n",
       "\n",
       "\n"
      ],
      "text/plain": [
       "  Year Month Cotagecheese.Prod Icecream.Prod Milk.Prod N.CA.Fat.Price\n",
       "1 1995 Jan   4.370             51.595        2.112     0.9803        \n",
       "2 1995 Feb   3.695             56.086        1.932     0.8924        \n",
       "3 1995 Mar   4.538             68.453        2.162     0.8924        \n",
       "4 1995 Apr   4.280             65.722        2.130     0.8967        \n",
       "5 1995 May   4.470             73.730        2.227     0.8967        \n",
       "6 1995 Jun   4.238             77.994        2.124     0.9160        \n",
       "  dateTime  \n",
       "1 1995-01-01\n",
       "2 1995-02-01\n",
       "3 1995-03-01\n",
       "4 1995-04-01\n",
       "5 1995-05-01\n",
       "6 1995-06-01"
      ]
     },
     "metadata": {},
     "output_type": "display_data"
    }
   ],
   "source": [
    "head(dairy)"
   ]
  },
  {
   "cell_type": "markdown",
   "metadata": {},
   "source": [
    "The data frame inlcudes **Year**, **Month**, and the **dateTime** column with calendar information. Other columns show the production of dairy products and a benchmark price for milk fat.\n",
    "\n",
    "Next, examine the class of the **dateTime** column. "
   ]
  },
  {
   "cell_type": "code",
   "execution_count": 11,
   "metadata": {},
   "outputs": [
    {
     "data": {
      "text/html": [
       "<ol class=list-inline>\n",
       "\t<li>'POSIXct'</li>\n",
       "\t<li>'POSIXt'</li>\n",
       "</ol>\n"
      ],
      "text/latex": [
       "\\begin{enumerate*}\n",
       "\\item 'POSIXct'\n",
       "\\item 'POSIXt'\n",
       "\\end{enumerate*}\n"
      ],
      "text/markdown": [
       "1. 'POSIXct'\n",
       "2. 'POSIXt'\n",
       "\n",
       "\n"
      ],
      "text/plain": [
       "[1] \"POSIXct\" \"POSIXt\" "
      ]
     },
     "metadata": {},
     "output_type": "display_data"
    }
   ],
   "source": [
    "class(dairy$dateTime)"
   ]
  },
  {
   "cell_type": "markdown",
   "metadata": {},
   "source": [
    "As expected, this column is of class **POSIXct**, which inherits from the R **POSIXt** class. \n",
    "\n",
    "Now, examine the first 20 values of the **dateTime** column."
   ]
  },
  {
   "cell_type": "code",
   "execution_count": 13,
   "metadata": {},
   "outputs": [
    {
     "data": {
      "text/plain": [
       " [1] \"1995-10-01 IST\" \"1995-11-01 IST\" \"1995-12-01 IST\" \"1996-01-01 IST\"\n",
       " [5] \"1996-02-01 IST\" \"1996-03-01 IST\" \"1996-04-01 IST\" \"1996-05-01 IST\"\n",
       " [9] \"1996-06-01 IST\" \"1996-07-01 IST\" \"1996-08-01 IST\" \"1996-09-01 IST\"\n",
       "[13] \"1996-10-01 IST\" \"1996-11-01 IST\" \"1996-12-01 IST\" \"1997-01-01 IST\"\n",
       "[17] \"1997-02-01 IST\" \"1997-03-01 IST\" \"1997-04-01 IST\" \"1997-05-01 IST\"\n",
       "[21] \"1997-06-01 IST\" \"1997-07-01 IST\" \"1997-08-01 IST\" \"1997-09-01 IST\"\n",
       "[25] \"1997-10-01 IST\" \"1997-11-01 IST\" \"1997-12-01 IST\" \"1998-01-01 IST\"\n",
       "[29] \"1998-02-01 IST\" \"1998-03-01 IST\" \"1998-04-01 IST\" \"1998-05-01 IST\"\n",
       "[33] \"1998-06-01 IST\" \"1998-07-01 IST\" \"1998-08-01 IST\" \"1998-09-01 IST\"\n",
       "[37] \"1998-10-01 IST\" \"1998-11-01 IST\" \"1998-12-01 IST\" \"1999-01-01 IST\"\n",
       "[41] \"1999-02-01 IST\""
      ]
     },
     "metadata": {},
     "output_type": "display_data"
    }
   ],
   "source": [
    "dairy$dateTime[10:50]"
   ]
  },
  {
   "cell_type": "markdown",
   "metadata": {},
   "source": [
    "Note that these values inlcude the day and a time zone.\n",
    "\n",
    "You can perform both arithmetic and logical operations on POSIXct objects. As an example, select the last 12 months of dairy data by executing the next code cell. "
   ]
  },
  {
   "cell_type": "code",
   "execution_count": 14,
   "metadata": {},
   "outputs": [
    {
     "data": {
      "text/html": [
       "<table>\n",
       "<thead><tr><th></th><th scope=col>Year</th><th scope=col>Month</th><th scope=col>Cotagecheese.Prod</th><th scope=col>Icecream.Prod</th><th scope=col>Milk.Prod</th><th scope=col>N.CA.Fat.Price</th><th scope=col>dateTime</th></tr></thead>\n",
       "<tbody>\n",
       "\t<tr><th scope=row>217</th><td>2013      </td><td>Jan       </td><td>2.282     </td><td>62.612    </td><td>3.462     </td><td>1.7744    </td><td>2013-01-01</td></tr>\n",
       "\t<tr><th scope=row>218</th><td>2013      </td><td>Feb       </td><td>1.941     </td><td>66.274    </td><td>3.231     </td><td>1.6224    </td><td>2013-02-01</td></tr>\n",
       "\t<tr><th scope=row>219</th><td>2013      </td><td>Mar       </td><td>2.150     </td><td>75.770    </td><td>3.676     </td><td>1.6968    </td><td>2013-03-01</td></tr>\n",
       "\t<tr><th scope=row>220</th><td>2013      </td><td>Apr       </td><td>2.217     </td><td>76.396    </td><td>3.622     </td><td>1.7444    </td><td>2013-04-01</td></tr>\n",
       "\t<tr><th scope=row>221</th><td>2013      </td><td>May       </td><td>2.341     </td><td>80.899    </td><td>3.720     </td><td>1.8552    </td><td>2013-05-01</td></tr>\n",
       "\t<tr><th scope=row>222</th><td>2013      </td><td>Jun       </td><td>2.694     </td><td>92.091    </td><td>3.489     </td><td>1.8314    </td><td>2013-06-01</td></tr>\n",
       "\t<tr><th scope=row>223</th><td>2013      </td><td>Jul       </td><td>2.433     </td><td>84.026    </td><td>3.373     </td><td>1.6923    </td><td>2013-07-01</td></tr>\n",
       "\t<tr><th scope=row>224</th><td>2013      </td><td>Aug       </td><td>2.169     </td><td>78.382    </td><td>3.400     </td><td>1.6273    </td><td>2013-08-01</td></tr>\n",
       "\t<tr><th scope=row>225</th><td>2013      </td><td>Sep       </td><td>2.193     </td><td>74.871    </td><td>3.197     </td><td>1.5519    </td><td>2013-09-01</td></tr>\n",
       "\t<tr><th scope=row>226</th><td>2013      </td><td>Oct       </td><td>2.284     </td><td>70.011    </td><td>3.338     </td><td>1.5566    </td><td>2013-10-01</td></tr>\n",
       "\t<tr><th scope=row>227</th><td>2013      </td><td>Nov       </td><td>1.865     </td><td>61.394    </td><td>3.275     </td><td>1.7537    </td><td>2013-11-01</td></tr>\n",
       "\t<tr><th scope=row>228</th><td>2013      </td><td>Dec       </td><td>2.345     </td><td>53.653    </td><td>3.473     </td><td>1.6747    </td><td>2013-12-01</td></tr>\n",
       "</tbody>\n",
       "</table>\n"
      ],
      "text/latex": [
       "\\begin{tabular}{r|lllllll}\n",
       "  & Year & Month & Cotagecheese.Prod & Icecream.Prod & Milk.Prod & N.CA.Fat.Price & dateTime\\\\\n",
       "\\hline\n",
       "\t217 & 2013       & Jan        & 2.282      & 62.612     & 3.462      & 1.7744     & 2013-01-01\\\\\n",
       "\t218 & 2013       & Feb        & 1.941      & 66.274     & 3.231      & 1.6224     & 2013-02-01\\\\\n",
       "\t219 & 2013       & Mar        & 2.150      & 75.770     & 3.676      & 1.6968     & 2013-03-01\\\\\n",
       "\t220 & 2013       & Apr        & 2.217      & 76.396     & 3.622      & 1.7444     & 2013-04-01\\\\\n",
       "\t221 & 2013       & May        & 2.341      & 80.899     & 3.720      & 1.8552     & 2013-05-01\\\\\n",
       "\t222 & 2013       & Jun        & 2.694      & 92.091     & 3.489      & 1.8314     & 2013-06-01\\\\\n",
       "\t223 & 2013       & Jul        & 2.433      & 84.026     & 3.373      & 1.6923     & 2013-07-01\\\\\n",
       "\t224 & 2013       & Aug        & 2.169      & 78.382     & 3.400      & 1.6273     & 2013-08-01\\\\\n",
       "\t225 & 2013       & Sep        & 2.193      & 74.871     & 3.197      & 1.5519     & 2013-09-01\\\\\n",
       "\t226 & 2013       & Oct        & 2.284      & 70.011     & 3.338      & 1.5566     & 2013-10-01\\\\\n",
       "\t227 & 2013       & Nov        & 1.865      & 61.394     & 3.275      & 1.7537     & 2013-11-01\\\\\n",
       "\t228 & 2013       & Dec        & 2.345      & 53.653     & 3.473      & 1.6747     & 2013-12-01\\\\\n",
       "\\end{tabular}\n"
      ],
      "text/markdown": [
       "\n",
       "| <!--/--> | Year | Month | Cotagecheese.Prod | Icecream.Prod | Milk.Prod | N.CA.Fat.Price | dateTime | \n",
       "|---|---|---|---|---|---|---|---|---|---|---|---|\n",
       "| 217 | 2013       | Jan        | 2.282      | 62.612     | 3.462      | 1.7744     | 2013-01-01 | \n",
       "| 218 | 2013       | Feb        | 1.941      | 66.274     | 3.231      | 1.6224     | 2013-02-01 | \n",
       "| 219 | 2013       | Mar        | 2.150      | 75.770     | 3.676      | 1.6968     | 2013-03-01 | \n",
       "| 220 | 2013       | Apr        | 2.217      | 76.396     | 3.622      | 1.7444     | 2013-04-01 | \n",
       "| 221 | 2013       | May        | 2.341      | 80.899     | 3.720      | 1.8552     | 2013-05-01 | \n",
       "| 222 | 2013       | Jun        | 2.694      | 92.091     | 3.489      | 1.8314     | 2013-06-01 | \n",
       "| 223 | 2013       | Jul        | 2.433      | 84.026     | 3.373      | 1.6923     | 2013-07-01 | \n",
       "| 224 | 2013       | Aug        | 2.169      | 78.382     | 3.400      | 1.6273     | 2013-08-01 | \n",
       "| 225 | 2013       | Sep        | 2.193      | 74.871     | 3.197      | 1.5519     | 2013-09-01 | \n",
       "| 226 | 2013       | Oct        | 2.284      | 70.011     | 3.338      | 1.5566     | 2013-10-01 | \n",
       "| 227 | 2013       | Nov        | 1.865      | 61.394     | 3.275      | 1.7537     | 2013-11-01 | \n",
       "| 228 | 2013       | Dec        | 2.345      | 53.653     | 3.473      | 1.6747     | 2013-12-01 | \n",
       "\n",
       "\n"
      ],
      "text/plain": [
       "    Year Month Cotagecheese.Prod Icecream.Prod Milk.Prod N.CA.Fat.Price\n",
       "217 2013 Jan   2.282             62.612        3.462     1.7744        \n",
       "218 2013 Feb   1.941             66.274        3.231     1.6224        \n",
       "219 2013 Mar   2.150             75.770        3.676     1.6968        \n",
       "220 2013 Apr   2.217             76.396        3.622     1.7444        \n",
       "221 2013 May   2.341             80.899        3.720     1.8552        \n",
       "222 2013 Jun   2.694             92.091        3.489     1.8314        \n",
       "223 2013 Jul   2.433             84.026        3.373     1.6923        \n",
       "224 2013 Aug   2.169             78.382        3.400     1.6273        \n",
       "225 2013 Sep   2.193             74.871        3.197     1.5519        \n",
       "226 2013 Oct   2.284             70.011        3.338     1.5566        \n",
       "227 2013 Nov   1.865             61.394        3.275     1.7537        \n",
       "228 2013 Dec   2.345             53.653        3.473     1.6747        \n",
       "    dateTime  \n",
       "217 2013-01-01\n",
       "218 2013-02-01\n",
       "219 2013-03-01\n",
       "220 2013-04-01\n",
       "221 2013-05-01\n",
       "222 2013-06-01\n",
       "223 2013-07-01\n",
       "224 2013-08-01\n",
       "225 2013-09-01\n",
       "226 2013-10-01\n",
       "227 2013-11-01\n",
       "228 2013-12-01"
      ]
     },
     "metadata": {},
     "output_type": "display_data"
    }
   ],
   "source": [
    "dairy[dairy$dateTime > '2012-12-01',]"
   ]
  },
  {
   "cell_type": "markdown",
   "metadata": {},
   "source": [
    "Try selecting some other subsets of these data using the **POSIXct** column. \n",
    "\n",
    "## Create a Time Series Plot\n",
    "\n",
    "Now that you have examined the data frame, you will create a time series plot of milk production. When creating a time series plot, the **POSIXct** column is used to create the time axis. \n",
    "\n",
    "The plot is created using the **ggplot2** package. Execute the code in the cell below to create the time series plot of milk production. "
   ]
  },
  {
   "cell_type": "code",
   "execution_count": 15,
   "metadata": {},
   "outputs": [
    {
     "name": "stderr",
     "output_type": "stream",
     "text": [
      "Loading required package: ggplot2\n"
     ]
    },
    {
     "data": {},
     "metadata": {},
     "output_type": "display_data"
    },
    {
     "data": {
      "image/png": "[encoded data removed]",
      "text/plain": [
       "plot without title"
      ]
     },
     "metadata": {},
     "output_type": "display_data"
    }
   ],
   "source": [
    "library(repr)\n",
    "options(repr.plot.width=8, repr.plot.height=8)\n",
    "\n",
    "dairy.plot <- function(df, col = 'Milk.Prod'){\n",
    "  require(ggplot2)\n",
    "  ggplot(df, aes_string('dateTime', col)) +\n",
    "    geom_line() +\n",
    "    ggtitle(paste('Time series of', col)) +\n",
    "    xlab('Time in years')\n",
    "}\n",
    "dairy.plot(dairy)"
   ]
  },
  {
   "cell_type": "markdown",
   "metadata": {},
   "source": [
    "The production of milk is shown on the vertical scale and the date is on the horizontal scale. \n",
    "\n",
    "For most of the time period shown, the production of milk increased year over year. However, there is a decline in milk production starting in 2009 as a results of the recession. Also, notice that this time series exhibits a strong seasonal component with an annual cycle. \n",
    "\n",
    "\n",
    "## Statistical Properties of the Time Series\n",
    "\n",
    "Having examined the time series of milk production, you will now explore some statistical properties of the time series. \n",
    "\n",
    "Autocorrelation is a fundamental property of time series. The **Autocorrelation Function** or ACF provides information on the dependency of the time series values of previous values. Later in this lab, you will use the results of a ACF analysis to estimate the order of moving average processes.The **Partial autocorrelation Function** or PACF, measures the correlation of the time series with its own lag values. Later in this lab you will use an  PACF to estimate the order of an autoregressive process. \n",
    "\n",
    "Execute the code in the following cell and examine the ACF of the milk production time series. "
   ]
  },
  {
   "cell_type": "code",
   "execution_count": 21,
   "metadata": {
    "scrolled": false
   },
   "outputs": [
    {
     "data": {
      "image/png": "[encoded data removed]",
      "text/plain": [
       "Plot with title \"PACF of Milk.Prod\""
      ]
     },
     "metadata": {},
     "output_type": "display_data"
    }
   ],
   "source": [
    "dairy.acf <- function(df, col = 'remainder', is.df =TRUE){\n",
    "  if(is.df) temp <- df[, col]\n",
    "  else temp <- df\n",
    "  temp = ts(temp, start = 2007, frequency = 500)\n",
    "  par(mfrow = c(2,1))\n",
    "  acf(temp, main = paste('ACF of', col))\n",
    "  pacf(temp, main = paste('PACF of', col))\n",
    "  par(mfrow = c(1,1))\n",
    "}\n",
    "dairy.acf(dairy, col = 'Milk.Prod')"
   ]
  },
  {
   "cell_type": "markdown",
   "metadata": {},
   "source": [
    "Note that the values of the ACF at the various lags decays only slowly. This indicates there is considerable serial correlation between the time series values at the various lags, mostly likely from the trend. \n",
    "\n",
    "Plotting a histogram provides information on the distribution of values of the time series. Execute the code in the cell below and examine the histogram."
   ]
  },
  {
   "cell_type": "code",
   "execution_count": 22,
   "metadata": {},
   "outputs": [
    {
     "data": {
      "image/png": "[encoded data removed]",
      "text/plain": [
       "Plot with title \"Distribution of  Milk.Prod\""
      ]
     },
     "metadata": {},
     "output_type": "display_data"
    }
   ],
   "source": [
    "hist.ts = function(df, col = 'Milk.Prod', bins = 40){\n",
    "    temp = df[,col]\n",
    "    breaks = seq(min(temp), max(temp), length.out = (bins + 1))\n",
    "    hist(temp, breaks = breaks, main = paste('Distribution of ', col), xlab = col)\n",
    "}\n",
    "hist.ts(dairy)"
   ]
  },
  {
   "cell_type": "markdown",
   "metadata": {},
   "source": [
    "The histogram of the full milk production time series shows considerable dispursion. Again this behavior is likely the result of the trend. \n",
    "\n",
    "\n",
    "### Exercise: Plot Ice Cream Production\n",
    "\n",
    "In this exercise you will use the **Icecream.Prod** column of the **diary** data frame. Create plots to answer the following questions. \n",
    "\n",
    "- Does icecream production have a noticable seasonal component? Can you characterize the trend of ice cream production greater over time as strong or weak? \n",
    "- Is the seasonal variation of icecream production noticable in the plot of ACF? Does the ACF plot indicate a strong trend component? \n",
    "\n",
    "In the code cell below, use the **dairy.plot** and **dairy.acf** functions to create new plots showing the ice cream production and answer the questions above. \n"
   ]
  },
  {
   "cell_type": "code",
   "execution_count": null,
   "metadata": {},
   "outputs": [],
   "source": [
    "dairy.plot(dairy, 'Icecream.Prod')"
   ]
  },
  {
   "cell_type": "markdown",
   "metadata": {},
   "source": [
    "## Simple Moving Average Decomposition of the Time Series\n",
    "\n",
    "Time series are typically decomposed into three components: trend, seasonal, and the remainder, or residual. Trend can be modeled by several methods. You will start by decomposing the time series using a simple moving average model. \n",
    "\n",
    "The code in the cell below uses moving window method to compute the average of the time series over specified span, or order of the operator. As the moving window operator moves over the data, the average of the values in the windows is calculated. Execute the cell to load the function."
   ]
  },
  {
   "cell_type": "code",
   "execution_count": null,
   "metadata": {
    "collapsed": true
   },
   "outputs": [],
   "source": [
    "dairy.ma <- function(df, col = 'Milk.Prod', order = 12){\n",
    "  temp = df[, col]\n",
    "  end = length(temp) - 1\n",
    "  out = rep(0, length(temp))\n",
    "  out[1] = temp[1]\n",
    "  for(i in 1:end){\n",
    "    if(i - order <= 1) j = 1 \n",
    "    else j = j + 1\n",
    "    out[i + 1] = sum(temp[j:i])/(i - j + 1)\n",
    "  }\n",
    "  out\n",
    "}"
   ]
  },
  {
   "cell_type": "markdown",
   "metadata": {},
   "source": [
    "Once the trend has been removed, the seasonal component must be modeled and removed. The function in the cell below computes the seasonal component as a function of the month of the year using a linear model. The **0** in the model formula supresses the intercept term. Since 12 monthly factors are used to model seasonal variation, the model would be over-determined if an intercept was included. \n",
    "\n",
    "Execute the code in the cell to load the function."
   ]
  },
  {
   "cell_type": "code",
   "execution_count": null,
   "metadata": {
    "collapsed": true
   },
   "outputs": [],
   "source": [
    "dairy.seasons <- function(df, col = 'Milk.Prod'){\n",
    "  df$y = df[, col]\n",
    "  fit = lm(y ~ 0 + Month, data = df)\n",
    "  predict(fit, newdata = df)\n",
    "}"
   ]
  },
  {
   "cell_type": "markdown",
   "metadata": {},
   "source": [
    "Using these functions you will now decompose the time series into its components. The function in the code cell below uses multiplicative decomposition of the time series. The model is transformed to a multiplicative model by taking the log of the time series values. The moving average is computed over a twelve month moving window. \n",
    "\n",
    "Execute the code in the cell below and examine the head of the resulting data frame. "
   ]
  },
  {
   "cell_type": "code",
   "execution_count": null,
   "metadata": {},
   "outputs": [],
   "source": [
    "decomp.dairy <- function(df,  col = 'Milk.Prod', multiplicative = TRUE, order = 12){\n",
    "  if(multiplicative) {\n",
    "    temp = log(df[, col])\n",
    "    df[, col] = temp\n",
    "  } else { \n",
    "    temp = df[, col] \n",
    "  }\n",
    "  trend = dairy.ma(df, col = col, order = order)\n",
    "  temp = temp - trend\n",
    "  df[, col] = temp\n",
    "  seasonal = dairy.seasons(df, col = col)\n",
    "  remainder = temp - seasonal\n",
    "  data.frame(trend = trend, seasonal = seasonal, remainder = remainder)\n",
    "}\n",
    "decomp <- decomp.dairy(dairy, order = 12)\n",
    "head(decomp)"
   ]
  },
  {
   "cell_type": "markdown",
   "metadata": {},
   "source": [
    "The resulting data frame has three components for trend, seasonal, and remainder.\n",
    "\n",
    "The code in the cell below creates visualizations of each of the three components of the decomposition of the time series using **ggplot2**. Run the code in the cell to visualize these components. \n",
    "\n",
    "(**Note**: If an error occurs stating that gridExtra can't be found, save the notebook, halt and close it, reopen it, run all the cells above this one, and then re-run the cell below - occasionally newly installed packages fail to load in a timely fashion) "
   ]
  },
  {
   "cell_type": "code",
   "execution_count": null,
   "metadata": {},
   "outputs": [],
   "source": [
    "decomp.plot <- function(df){\n",
    "  require(ggplot2)\n",
    "  install.packages(\"gridExtra\")\n",
    "  require(gridExtra)\n",
    "  df$x = 1:nrow(df)\n",
    "  ycols = c('trend', 'seasonal', 'remainder')\n",
    "  p <- lapply(ycols, function(y){\n",
    "               ggplot(df, aes_string('x', y)) + \n",
    "                         geom_line() +\n",
    "                         ylab(y)\n",
    "            })\n",
    "  grid.arrange(p[[1]], p[[2]], p[[3]], nrow = 3)\n",
    "}\n",
    "decomp.plot(decomp)"
   ]
  },
  {
   "cell_type": "markdown",
   "metadata": {},
   "source": [
    "You can see the trend and seasonal components clearly separated in the above plots. The remainder plot looks fairly random, as expected. But, is the remainder actually stationary?  To test for stationarity of the remainder, plot the ACF by executing the code in the cell below. "
   ]
  },
  {
   "cell_type": "code",
   "execution_count": null,
   "metadata": {},
   "outputs": [],
   "source": [
    "dairy.acf(decomp)"
   ]
  },
  {
   "cell_type": "markdown",
   "metadata": {},
   "source": [
    "The ACF has 7 significant lag values, indicating the remainder is not, in fact, stationary. \n",
    "\n",
    "## Exploring the Multiplicative Model with lowess\n",
    "\n",
    "Having tried a simple moving average decomposition, you will now use a lowess model to determine the trend. Lowess is a sophisticated non-linear regression. The lowess trend model is combined with a moving window seasonal component model into the R **stl** function.   \n",
    "\n",
    "The code in the cell below uses **stl** to decompose a time series. Plots are created of the components of the time series. Finally, the columns of the time series decomposition are added as new column to input data frame. Execute the code in the cell below to compute and view a decomposition of the milk production time series. "
   ]
  },
  {
   "cell_type": "code",
   "execution_count": null,
   "metadata": {},
   "outputs": [],
   "source": [
    "dairy.decomp <- function(df, col = 'Milk.diff', span = 0.5, Mult = TRUE){\n",
    "  if(Mult) {temp <- ts(log(df[, col]), frequency=12, start=1)\n",
    "  } else {temp <- ts(df[, col], frequency=24, start=1)}\n",
    "  span = span * length(temp)  \n",
    "  dairyFit <- stl(temp, s.window = \"periodic\", t.window = span)\n",
    "  plot(dairyFit, main = 'Decompositon of dairy produciton')\n",
    "  cbind(df, as.data.frame(dairyFit$time.series))\n",
    "}\n",
    "dairyMult = dairy.decomp(dairy, col = 'Milk.Prod', span = 0.2)"
   ]
  },
  {
   "cell_type": "markdown",
   "metadata": {},
   "source": [
    "The time series charts show the original time series along with the components of the decomposition. The trend is a bit smoother than was obtained with the simple moving average decomposition. \n",
    "\n",
    "The question remains, is the remainder from this decomposition stationary? To find out, execute the code in the cell below.  "
   ]
  },
  {
   "cell_type": "code",
   "execution_count": null,
   "metadata": {},
   "outputs": [],
   "source": [
    "dairy.acf(dairyMult)"
   ]
  },
  {
   "cell_type": "markdown",
   "metadata": {},
   "source": [
    "The first 4 lag values of the ACF have significant values, indicating that the remainder series is not stationary. Compared to the behavior of the ACF for the simple moving average decomposition, the behavior of the remainder is improved.  \n",
    "\n",
    "Now, plot the histogram of the remainder by executing the code in the cell below. "
   ]
  },
  {
   "cell_type": "code",
   "execution_count": 23,
   "metadata": {},
   "outputs": [
    {
     "ename": "ERROR",
     "evalue": "Error in hist.ts(dairyMult, col = \"remainder\"): object 'dairyMult' not found\n",
     "output_type": "error",
     "traceback": [
      "Error in hist.ts(dairyMult, col = \"remainder\"): object 'dairyMult' not found\nTraceback:\n",
      "1. hist.ts(dairyMult, col = \"remainder\")"
     ]
    }
   ],
   "source": [
    "hist.ts(dairyMult, col = 'remainder')"
   ]
  },
  {
   "cell_type": "markdown",
   "metadata": {},
   "source": [
    "The distribution of the remainder values is much closer to a Normal distribution than for the original time series you created earlier. This result, combined with the ACF plot, indicates that the stl decomposition is effective.  \n",
    "\n",
    "You will further, investigate the remainder (non-seasonal residual) component by making a box plot by month of the year. The code in the cell below plots a box plot by month of the remainder component using ggplot2. Execute the code in the cell below to display the box plot. "
   ]
  },
  {
   "cell_type": "code",
   "execution_count": null,
   "metadata": {},
   "outputs": [],
   "source": [
    "dairy.box <- function(df, col = 'remainder'){\n",
    "  require(ggplot2)\n",
    "  p <- ggplot(df, aes_string('Month', col)) +\n",
    "    geom_boxplot() +\n",
    "    ggtitle('Variation of remainder component of dairy production by month')\n",
    "  print(p)\n",
    "}\n",
    "dairy.box(dairyMult)"
   ]
  },
  {
   "cell_type": "markdown",
   "metadata": {},
   "source": [
    "The remainder component shows only limited vairation from month to month. The differences are within the interquartile range, indicating that the seasonal model is a reasonably good fit.  \n",
    "\n",
    "****\n",
    "\n",
    "### Exercise: Decomposition of Ice Cream Production Time Series\n",
    "\n",
    "In this exercise you will decompose the **Icecream.Prod** column of the **diary** data frame. Create plots to answer the following questions. \n",
    "\n",
    "- Does icecream production have a noticable seasonal component or are the values all close to the average over time? Is there a strong seasonal component for icecream production. \n",
    "- Does the acf plot indicate that the remainder series is stationary?\n",
    "- Do the values in the histogram have an approximately normal distribution?\n",
    "- Does the interquartile range for each month overlap, indicating that the decomposition has produced a reasonably good model of the seasonal variation. \n",
    "\n",
    "In the code cell below, use the **dairy.decomp**, **dairy.acf**, **dairy.hist**, and **dairy.box** functions to create new plots of the ice cream production time series and answer the questions above. \n",
    "\n",
    "****\n"
   ]
  },
  {
   "cell_type": "code",
   "execution_count": null,
   "metadata": {},
   "outputs": [],
   "source": []
  },
  {
   "cell_type": "markdown",
   "metadata": {},
   "source": [
    "## Moving Average Models\n",
    "\n",
    "Now that you have explored the decomposition of the time series you, will now construct and test Autoregressive Moving Average (ARMA) models for the remainder of the time series. You will create and test these models in three steps, creating a moving average (MA) model, creating an autoregressive (AR) model and creating an autoregressive moving average (ARMA) model. \n",
    "\n",
    "The function in the cell below computes an Autoregressive Integrative Moving Average (ARIMA) model. The summary statistics for the model are printed and the model object returned. By assigning values to the order of each operator different time series models can be specified, as order of MA model, order of Integrative model, and order of AR model. Since the de-trended remainder is being modeled, the **include.mean** argument is set to FALSE in the **arima** function. \n",
    "\n",
    "The ACF of the remainder from the **stl** decomposition of the milk production time series had 4 significant lag values. As an inital model, you will now create an MA model of order 4. Execute the code in the cell below to compute the MA(4) model and examine the model summary. "
   ]
  },
  {
   "cell_type": "code",
   "execution_count": null,
   "metadata": {},
   "outputs": [],
   "source": [
    "model.dairy = function(df, col = 'remainder', order = c(0,0,1)){\n",
    "  ts = ts(df[, col], frequency = 12, start = 1995)\n",
    "  dairy.mod = arima(ts, order = order, include.mean = FALSE)\n",
    "  print(dairy.mod)\n",
    "  dairy.mod\n",
    "}\n",
    "ma1 = model.dairy(dairyMult, order = c(0,0,4))"
   ]
  },
  {
   "cell_type": "markdown",
   "metadata": {},
   "source": [
    "Examine the values of the model coefficients and their standard errors (SE). Notice that the SE of the ma4 coefficient is actually greater than the value of the coefficient itself. This indicates that the value of this coefficient is poorly deterimind and should likely be set to zero. \n",
    "\n",
    "The foregoing result indicates that the order of the MA model should be reduced. Generally, the order of an MA model is reduced in unit steps until all the coefficients appear to be significant. The code in the cell below computes an MA(3) model. Run this code and examine the model summary. "
   ]
  },
  {
   "cell_type": "code",
   "execution_count": null,
   "metadata": {},
   "outputs": [],
   "source": [
    "ma1 = model.dairy(dairyMult, order = c(0,0,3))"
   ]
  },
  {
   "cell_type": "markdown",
   "metadata": {},
   "source": [
    "The small standard error compared to the magnitude of the coefficients indicates that the order of the model is reasonable. \n",
    "\n",
    "To test how well this model fits the data, and results in a stationary result, you will plot the ACF of the residuals of the MA(3) model. Run the code in the cell below to plot the ACF of the model result. "
   ]
  },
  {
   "cell_type": "code",
   "execution_count": null,
   "metadata": {},
   "outputs": [],
   "source": [
    "dairy.acf(ma1$resid[-1], is.df = FALSE)"
   ]
  },
  {
   "cell_type": "markdown",
   "metadata": {},
   "source": [
    "Note that only the 0 lag of the ACF is significant and that there are no significant lags for the PACS. These observations indicate that the MA(3) model is a good fit. "
   ]
  },
  {
   "cell_type": "markdown",
   "metadata": {},
   "source": [
    "## Autoregressive Models\n",
    "\n",
    "The MA(3) model has been shown to be effective. Next, you will test an autoregressive model. The PACF of the reminder indicates that an AR model might not be the best choice. None the less, a low order AR model might fit these data. To compute an AR(2) model exectue the code in the cell below. "
   ]
  },
  {
   "cell_type": "code",
   "execution_count": null,
   "metadata": {},
   "outputs": [],
   "source": [
    "ar1 = model.dairy(dairyMult, order = c(2,0,0))"
   ]
  },
  {
   "cell_type": "markdown",
   "metadata": {},
   "source": [
    "Examine the values of the coefficients and their standard errors. Note that the standard error of the second coefficient is of the same magnitude as the coefficient. Clearly, the AR(2) model is over parameterized. \n",
    "\n",
    "Next, you will try an AR(1) model, by executing the code in the cell below."
   ]
  },
  {
   "cell_type": "code",
   "execution_count": null,
   "metadata": {},
   "outputs": [],
   "source": [
    "ar1 = model.dairy(dairyMult, order = c(1,0,0))"
   ]
  },
  {
   "cell_type": "markdown",
   "metadata": {},
   "source": [
    "The standard error of the AR(1) model is an order of magnitude less than the value of the coefficient, which is promising.\n",
    "\n",
    "Next, exectue the code in the cell below to plot the ACF and PACF of the AR(1) model"
   ]
  },
  {
   "cell_type": "code",
   "execution_count": null,
   "metadata": {},
   "outputs": [],
   "source": [
    "options(repr.plot.width=8, repr.plot.height=8)\n",
    "dairy.acf(ar1$resid[-1], is.df = FALSE)"
   ]
  },
  {
   "cell_type": "markdown",
   "metadata": {},
   "source": [
    "Note that only the 0 lag of the ACF is significant and that there are no significant lags for the PACF. These observations indicate that the AR(1) model is a good fit. Compare these results to those of the MA(3) model, noting that they are nearly identical. Evidently, either the MA(3) or AR(1) model is a good choice for these data. "
   ]
  },
  {
   "cell_type": "markdown",
   "metadata": {},
   "source": [
    "## Autoregressive Moving Average Models\n",
    "\n",
    "You have found that both MA(3) and AR(1) models are good fits to the remainder series. You will now investigate the use of autoregressive moving average (ARMA) models on the remainder series. \n",
    "\n",
    "As a starting point you will try an ARMA(1,3) model by executing the code in the cell below. "
   ]
  },
  {
   "cell_type": "code",
   "execution_count": null,
   "metadata": {},
   "outputs": [],
   "source": [
    "arma1 = model.dairy(dairyMult, order = c(1,0,3))"
   ]
  },
  {
   "cell_type": "markdown",
   "metadata": {},
   "source": [
    "In each case, the standard error is of the same order of magnitude as the value of the coefficient, indicating this model is a poor fit to the data.\n",
    "\n",
    "\n",
    "****\n",
    "\n",
    "### Exercise: Test Another ARMA Model\n",
    "\n",
    "In this exercise you will test an ARMA(1,1) model and evaluate its coefficients to answer these questions. \n",
    "\n",
    "- How do the standard errors compare to the values of the coefficients?\n",
    "- Do you think this model fits the data well or is it over parameterize?\n",
    "\n",
    "Add code to compute the ARMA(1,1) model and plot iots ACFG and PACF to the cell below, and answer the questions above.\n",
    "\n",
    "****"
   ]
  },
  {
   "cell_type": "code",
   "execution_count": null,
   "metadata": {},
   "outputs": [],
   "source": []
  },
  {
   "cell_type": "markdown",
   "metadata": {},
   "source": [
    "\n",
    "## Exploring the Difference Series\n",
    "\n",
    "Using a difference series is a method to remove trend from a time series. The difference can be computed for any number of lag values, depending on the order of the trend.  In this case you will use a first order difference series to model the trend in the milk production time series. \n",
    "\n",
    "Using the code in the cell below, you will compute the first order difference series. Notice that the difference series is  necessarily of length one less than the original series. Execute the code in the cell to compute the difference series. "
   ]
  },
  {
   "cell_type": "code",
   "execution_count": null,
   "metadata": {},
   "outputs": [],
   "source": [
    "dairy.diff <- function(df, col = 'Milk.Prod', out = 'Milk.Diff'){\n",
    "  ln <- nrow(df)\n",
    "  temp <- ts(df[, col], frequency = 12, start = 1995)\n",
    "  df[2:ln, out] <- diff(temp)\n",
    "  df <- df[2:ln, ]\n",
    "  df\n",
    "}\n",
    "dairyDiff <- dairy.diff(dairy)"
   ]
  },
  {
   "cell_type": "markdown",
   "metadata": {},
   "source": [
    "Next, compute the stl decomposition of the difference series. Since we are working with a difference series, which has positive and negative values, we use an additive model. No logarithm is taken. Execute the code in the cell below to compute and display the decomposition of the difference series.  "
   ]
  },
  {
   "cell_type": "code",
   "execution_count": null,
   "metadata": {},
   "outputs": [],
   "source": [
    "dairyDiff = dairy.decomp(dairyDiff, col = 'Milk.Diff', span = 0.5, Mult = FALSE)"
   ]
  },
  {
   "cell_type": "markdown",
   "metadata": {},
   "source": [
    "Examine the results shown above. The difference series is shown in the uppermost plot. Notice the small magnitude of the remaining trend indicating that the first order difference model removed most of the trend. However, the seasonal series exhibits a pattern with a 24 month cycle which is a bit odd. \n",
    "\n",
    "****\n",
    "\n",
    "### Exercise: Analysis of the Difference Series\n",
    "\n",
    "In this exercise you will analyize the remainder of the difference series following these steps. \n",
    "\n",
    "- Does the acf plot indicate that the remainder series is stationary?  \n",
    "- Is the dispersion of these values greater or less than the dispersion obtained directly from the decomposition of the time series (without diferencing). \n",
    "- Is the interquartile range of these values greater or less than the interquartile range obtained directly from the decomposition of the time series (without differencing). \n",
    "\n",
    "In the code cell below, use the **dairy.acf**, **dairy.hist**, and **dairy.box** functions to create new plots of the difference series and answer the questions above. \n",
    "****\n"
   ]
  },
  {
   "cell_type": "code",
   "execution_count": null,
   "metadata": {},
   "outputs": [],
   "source": []
  },
  {
   "cell_type": "markdown",
   "metadata": {},
   "source": [
    "## Autoregressive Integrative Moving Average Model\n",
    "\n",
    "It is clear from the exploration of the ARMA model, that the remainder of the decomposition of the dairy production time series is not stationary. You will now model the remainder series with an autoregressive integrative moving average (ARIMA) model.\n",
    "\n",
    "Execute the code in the cell below to compute an ARIMA(1,1,1) model."
   ]
  },
  {
   "cell_type": "code",
   "execution_count": null,
   "metadata": {},
   "outputs": [],
   "source": [
    "arima1 = model.dairy(dairyMult, order = c(1,1,1))"
   ]
  },
  {
   "cell_type": "markdown",
   "metadata": {},
   "source": [
    "The standard error of the ar1 coeficient is only about half its value. This model seems to be a reasonable fit. \n",
    "\n",
    "Next, plot the ACF and PACF of the model by executing the code in the cell below. "
   ]
  },
  {
   "cell_type": "code",
   "execution_count": null,
   "metadata": {},
   "outputs": [],
   "source": [
    "dairy.acf(arima1$resid[-1], is.df = FALSE)"
   ]
  },
  {
   "cell_type": "markdown",
   "metadata": {},
   "source": [
    "Note that only the 0 lag of the ACF is significant and that there are no significant lags for the PACF. These observations indicate that the ARIMA(1,1,1) model is a good fit. Compare these results to those of the MA(3) and AR(1) models, noting that they are nearly identical. The ARIMA(1,1,1) model is a good choice for these data as well. \n",
    "\n",
    "\n",
    "## Modeling and Forecasting\n",
    "\n",
    "Now that you have explored the properties of the decomposed time series, you will now compute forecasts of dairy product production. In this exercise you will compute a time series model using the R **forecast** package, and use this model to forecast the next 12 months of dairy product production. \n",
    "\n",
    "The R **forecast** package contains the **auto.arima** function which automatically steps through the ARIMA model parameters to find the best fit to the data. The ARIMA model used in the **forecast** package also includes modeling of seasonal differences.  The **auto.arima** function has multiple arguments, specifying the range of parameter values to search. The first argument is a time series object of class **ts**. \n",
    "\n",
    "The code in the cell below does the following:\n",
    "\n",
    "- Creates a time series of class **ts**.\n",
    "- Automatically finds and computes an ARIMA model.\n",
    "- Prints a summary of the ARIMA model.\n",
    "\n",
    "Execute the code in the cell below to compute and print the summary of the ARIMA model. "
   ]
  },
  {
   "cell_type": "code",
   "execution_count": null,
   "metadata": {},
   "outputs": [],
   "source": [
    "temp <- ts(log(dairy[, 'Milk.Prod']), frequency=12, start=1995)\n",
    "install.packages(\"forecast\")\n",
    "library(forecast)\n",
    "fit.dairy = auto.arima(temp, max.p=3, max.q=3,\n",
    "      max.P=2, max.Q=2, max.order=5, max.d=2, max.D=1,\n",
    "      start.p=0, start.q=0, start.P=0, start.Q=0)\n",
    "summary(fit.dairy)"
   ]
  },
  {
   "cell_type": "markdown",
   "metadata": {},
   "source": [
    "Examine the summary of the model, noticing the following points.\n",
    "\n",
    "- The model uses an MA(2) model for the seasonal difference. The coefficients of this model, sma1 and sma2, along with their standard errors can be seen in the summary.\n",
    "- The model of the remainder is and MA(1) model. The coeficient and its standard error can be seen in the summary above. \n",
    "- Error metrics, including RMSE, are provided in the summary. Notice that the RMSE is much smaller than the values of the milk production time series indicating good model performance.\n",
    "\n",
    "The **forecast** function is used to compute the forecast of the next 12 months using the model created using **auto.arima**. Execute the code in the cell below to compute a forecast and print its summary. "
   ]
  },
  {
   "cell_type": "code",
   "execution_count": null,
   "metadata": {},
   "outputs": [],
   "source": [
    "dairy.fit = forecast(fit.dairy, h=12)\n",
    "summary(dairy.fit)"
   ]
  },
  {
   "cell_type": "markdown",
   "metadata": {},
   "source": [
    "Much of the summary is the same as before. A 12 month forecast is printed below the model summary. There is a point forecast (the expected value) along with 80 and 95 percent confidence intervals. Notice, that the confidence intervals generally get wider for forecasts further out in time. It is hardly suprising that the forecast has more uncertaintly as time increases from the present. \n",
    "\n",
    "Finally, you can plot the forecast by executing the code in the cell below. "
   ]
  },
  {
   "cell_type": "code",
   "execution_count": null,
   "metadata": {},
   "outputs": [],
   "source": [
    "plot(dairy.fit)"
   ]
  },
  {
   "cell_type": "markdown",
   "metadata": {
    "collapsed": true
   },
   "source": [
    "The original time series of milk production is show in black in the plot above. The forecast is show in Blue. The 80 and 95 percent confidence intervals are shown in lighter shades of blue-gray.  \n",
    "\n",
    "****\n",
    "\n",
    "### Exercise: Forecast Ice Cream Production\n",
    "\n",
    "In this exercise you will forecast the production of icecream for a 12 month period following these steps. \n",
    "\n",
    "- Create a time series object with **frequency = 12** and **start = 1995** from the **Icecream.Prod** column of the **dairy** data frame.\n",
    "- Fit a model with the **auto.arima** function, following the hint given below.\n",
    "- Print a summary of the model. What is the order of the MA and AR components of the seasonal and remainder models? Note there will be a drift term, which accounts for linear trend in the time series.\n",
    "- Compute the forecast of icecream production for the next 12 months. \n",
    "- Plot the forecast and note the behavior. \n",
    "\n",
    "In the code cell below, use the **ts**, **auto.arima**, **summary**, **forecast**, and **plot** functions to create the new model, print the summaries and make the plots. **Hint** use the time series of icecream production as the first argument to the **auto.arima** function. You can copy and paste the other arguments from the milk production model, but set **max.p = 1** to prevent having an over-parameterized model. \n",
    "\n",
    "****\n"
   ]
  },
  {
   "cell_type": "code",
   "execution_count": null,
   "metadata": {},
   "outputs": [],
   "source": []
  },
  {
   "cell_type": "markdown",
   "metadata": {
    "collapsed": true
   },
   "source": [
    "## Summary\n",
    "\n",
    "In this lab you have learned to work with and analyze time series data. Specifically, you have done the following:\n",
    "\n",
    "- Examined the properties of time series objects.\n",
    "- Plotted time series data.\n",
    "- Decomposed time series data into its trend, seasonal, and remainder components.\n",
    "- Modeled the remainder components as AR, MA, ARMA and ARIMA models. \n",
    "- Created and evaluated difference series methods.\n",
    "- Constructed and evaluated a forecasting model. "
   ]
  }
 ],
 "metadata": {
  "celltoolbar": "Raw Cell Format",
  "kernelspec": {
   "display_name": "R",
   "language": "R",
   "name": "ir"
  },
  "language_info": {
   "codemirror_mode": "r",
   "file_extension": ".r",
   "mimetype": "text/x-r-source",
   "name": "R",
   "pygments_lexer": "r",
   "version": "3.3.2"
  }
 },
 "nbformat": 4,
 "nbformat_minor": 1
}
