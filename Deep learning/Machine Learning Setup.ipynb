{
 "cells": [
  {
   "cell_type": "markdown",
   "metadata": {},
   "source": [
    "# What is Machine learning ?\n",
    "\n",
    "Machine learning is an application of artificial intelligence (AI) that provides systems the ability to automatically learn and improve from experience without being explicitly programmed. Machine learning focuses on the development of computer programs that can access data and use it learn for themselves.\n",
    "\n",
    "Let's setup machine learning a fabulous tool and a need of the hour technology to solve real time problems and to create a end to end product .\n",
    "\n",
    "Machine learning works on all platform and let's begin our journey in ML by installing these packages in order below.\n",
    "\n",
    "### Importants to know :\n",
    "    Make sure you working in either python 2.7 or python 3.6 , we will use python 3.6\n",
    "    Some commmand might need sudo access in linux make sure you use it \n",
    "   #### Run all your commands in anaconda command prompt or terminal in case of linux\n",
    "    \n",
    "\n",
    "### Anaconda :\n",
    "\n",
    "Anaconda is a freemium open source distribution of the Python and R programming languages for large-scale data processing, predictive analytics, and scientific computing, that aims to simplify package management and deployment. It provides you with necessary packages needed for machine learning and IDE for deveploving code.\n",
    "\n",
    "While downloading make sure you add anaconda to your path variable ( make sure you click both the check box in last step on installation)\n"
   ]
  },
  {
   "cell_type": "markdown",
   "metadata": {},
   "source": [
    "Go to this link https://www.anaconda.com/download/ and download anaconda for python 3.6 "
   ]
  },
  {
   "cell_type": "markdown",
   "metadata": {},
   "source": [
    "### Sublime\n",
    "\n",
    "Sublime is one of best text editor where you can type machine learning codes and complie it using command line or can you simply use spyder a IDE(recommened) which comes in ananconda package (to open it search for ananconda navigator) where you can easily build and run your python code .\n",
    "\n",
    "#### https://www.sublimetext.com/3 "
   ]
  },
  {
   "cell_type": "markdown",
   "metadata": {},
   "source": [
    "### Python IDE\n",
    "\n",
    "If your working in Ubuntu python is preinstalled for you and in windows download the python IDE 3.6 using the following link\n",
    "\n",
    "https://www.python.org/downloads/"
   ]
  },
  {
   "cell_type": "markdown",
   "metadata": {},
   "source": [
    "### Numpy \n",
    "\n",
    "NumPy is the fundamental package for scientific computing with Python. It contains among other things: a powerful N-dimensional array object; sophisticated (broadcasting) functions; tools for integrating C/C++ and Fortran code; useful linear algebra, Fourier transform, and random number capabilities"
   ]
  },
  {
   "cell_type": "markdown",
   "metadata": {},
   "source": [
    "#### conda install -c anaconda numpy "
   ]
  },
  {
   "cell_type": "markdown",
   "metadata": {},
   "source": [
    "### Pandas \n",
    "\n",
    "It is an open source library providing high-performance, easy-to-use data structures and data analysis tools for the Python programming language. It is used to import dataset \n",
    "\n",
    "#### conda install -c anaconda pandas  "
   ]
  },
  {
   "cell_type": "markdown",
   "metadata": {},
   "source": [
    "### Scikit-learn \n",
    "It is a free software machine learning library for the Python programming language. It features various classification, regression and clustering algorithms including support vector machines and deep learning algorithms.\n",
    "\n",
    "#### conda install scikit-learn"
   ]
  },
  {
   "cell_type": "markdown",
   "metadata": {},
   "source": [
    "### Natural Language processing \n",
    "\n",
    "NLTK is a leading platform for building Python programs to work with human language data. It provides easy-to-use interfaces to over 50 corpora and lexical resources such as WordNet, along with a suite of text processing libraries for classification, tokenization, stemming, tagging, parsing, and semantic reasoning, wrappers for industrial-strength NLP libraries, and an active discussion forum.\n",
    "\n",
    "#### conda install -c anaconda nltk \n",
    "\n",
    "for more reference use https://pythonprogramming.net/tokenizing-words-sentences-nltk-tutorial/ or see their offical website for more insights "
   ]
  },
  {
   "cell_type": "markdown",
   "metadata": {},
   "source": [
    "### Matplotlib (preinstalled)(this section is optional)\n",
    "\n",
    "It is a Python 2D plotting library which produces publication quality figures in a variety of hardcopy formats and interactive environments across platforms. Matplotlib can be used in Python scripts, the Python and IPython shell, the jupyter notebook, web application servers, and four graphical user interface toolkits.\n",
    "\n",
    "It is used to draw line plot,scatter plot,bar charts,pie charts,stem plot etc.\n",
    "\n",
    "Alternative for matplotlib is bokeh and plotly (Optional not need)\n",
    "\n",
    "#### conda install bokeh\n",
    "#### pip install plotly"
   ]
  },
  {
   "cell_type": "markdown",
   "metadata": {},
   "source": [
    "### Joblib\n",
    "\n",
    "It is necessary to save your trained model in order to test and use it later on, joblib is a package under scikit learn for storing and restoring your machine learning model\n",
    "\n",
    "Refer this page for example http://scikit-learn.org/stable/modules/model_persistence.html\n",
    "\n"
   ]
  },
  {
   "cell_type": "markdown",
   "metadata": {},
   "source": [
    "### Virtualenv (Optional) \n",
    "\n",
    "It's important to work in a seperate environment inside your system so that dont distrub other system variable for example some package demands dependencies on python 2.7 but you have python 3.6 running in your OS in that case use virtualenv to solve the issue and its not neccessary in case of Machine learing but its recommened for deep learning if your working enviroment demands it . \n",
    "We will be using pip as the Python Package Manager. You can also use easy_install if you like. First, let's setup up pip (You may need to become root or use sudo on a Unix machine):\n",
    "\n",
    "#### easy_install pip\n",
    "\n",
    "The next step is to install the virtualenv package:\n",
    "\n",
    "#### pip install virtualenv\n",
    "\n",
    "And that's it! To install virtualenv, it's very easy.\n",
    "\n",
    "Use this link on how to use virtualenv https://www.pythoncentral.io/how-to-install-virtualenv-python/"
   ]
  },
  {
   "cell_type": "markdown",
   "metadata": {},
   "source": [
    "## Deep learning setups \n",
    "\n",
    "To setup deep learning in your OS make sure you have all the above packages.Theano and tensorflow are basically deep learning library which are used for research and development and keras raps both theano and tensorflow as it backend for computition and  for fast development keras is the best choice . It also recommened to learn torch,Caffe which are also a widly used powerfull deep learning library works primarily on GPU\n",
    "\n",
    "#### 1) pip install theano\n",
    "#### 2) pip install tensorflow\n",
    "#### 3) pip install keras\n",
    "  ####  or conda install keras\n",
    "#### 4) conda update --all"
   ]
  },
  {
   "cell_type": "markdown",
   "metadata": {},
   "source": [
    "I have covered all important packages for machine learning and deep learning but there are other packages which might need in special case such PIL to import images , CGI a server based script to link HTML and python,microsoft cognitive tookit and google deep learning API (vision,speech to text etc.) and more "
   ]
  }
 ],
 "metadata": {
  "kernelspec": {
   "display_name": "Python 3",
   "language": "python",
   "name": "python3"
  },
  "language_info": {
   "codemirror_mode": {
    "name": "ipython",
    "version": 3
   },
   "file_extension": ".py",
   "mimetype": "text/x-python",
   "name": "python",
   "nbconvert_exporter": "python",
   "pygments_lexer": "ipython3",
   "version": "3.6.3"
  }
 },
 "nbformat": 4,
 "nbformat_minor": 2
}
